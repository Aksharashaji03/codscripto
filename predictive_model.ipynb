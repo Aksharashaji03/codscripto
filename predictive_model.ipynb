{
 "cells": [
  {
   "cell_type": "code",
   "execution_count": 22,
   "id": "5f43fb10-5c9d-4fd3-b36f-3f82eb99747a",
   "metadata": {},
   "outputs": [
    {
     "name": "stdout",
     "output_type": "stream",
     "text": [
      "<class 'pandas.core.frame.DataFrame'>\n",
      "RangeIndex: 2823 entries, 0 to 2822\n",
      "Data columns (total 7 columns):\n",
      " #   Column           Non-Null Count  Dtype  \n",
      "---  ------           --------------  -----  \n",
      " 0   QUANTITYORDERED  2823 non-null   int64  \n",
      " 1   ORDERLINENUMBER  2823 non-null   int64  \n",
      " 2   SALES            2823 non-null   float64\n",
      " 3   QTR_ID           2823 non-null   int64  \n",
      " 4   YEAR_ID          2823 non-null   int64  \n",
      " 5   PRODUCTCODE      2823 non-null   object \n",
      " 6   DEALSIZE         2823 non-null   object \n",
      "dtypes: float64(1), int64(4), object(2)\n",
      "memory usage: 154.5+ KB\n",
      "None\n",
      "   QUANTITYORDERED  ORDERLINENUMBER    SALES  QTR_ID  YEAR_ID PRODUCTCODE  \\\n",
      "0               30                2  2871.00       1     2003    S10_1678   \n",
      "1               34                5  2765.90       2     2003    S10_1678   \n",
      "2               41                2  3884.34       3     2003    S10_1678   \n",
      "3               45                6  3746.70       3     2003    S10_1678   \n",
      "4               49               14  5205.27       4     2003    S10_1678   \n",
      "\n",
      "  DEALSIZE  \n",
      "0    Small  \n",
      "1    Small  \n",
      "2   Medium  \n",
      "3   Medium  \n",
      "4   Medium  \n"
     ]
    }
   ],
   "source": [
    "#Load and Explore the Data\n",
    "import pandas as pd\n",
    "\n",
    "# Load data from Excel file\n",
    "excel_file_path = r'C:\\Users\\minnu\\OneDrive\\Documents\\jupyternotebookfolder\\sales_data_sample.xlsx'\n",
    "df = pd.read_excel(excel_file_path)\n",
    "\n",
    "# Display basic information about the dataset\n",
    "print(df.info())\n",
    "print(df.head())\n"
   ]
  },
  {
   "cell_type": "code",
   "execution_count": 20,
   "id": "17b58485-5240-4f26-9e4a-a9d12301d8ed",
   "metadata": {},
   "outputs": [
    {
     "name": "stdout",
     "output_type": "stream",
     "text": [
      "      QUANTITYORDERED  ORDERLINENUMBER    SALES  QTR_ID  YEAR_ID PRODUCTCODE  \\\n",
      "0                  30                2  2871.00       1     2003    S10_1678   \n",
      "1                  34                5  2765.90       2     2003    S10_1678   \n",
      "2                  41                2  3884.34       3     2003    S10_1678   \n",
      "3                  45                6  3746.70       3     2003    S10_1678   \n",
      "4                  49               14  5205.27       4     2003    S10_1678   \n",
      "...               ...              ...      ...     ...      ...         ...   \n",
      "2818               20               15  2244.40       4     2004    S72_3212   \n",
      "2819               29                1  3978.51       1     2005    S72_3212   \n",
      "2820               43                4  5417.57       1     2005    S72_3212   \n",
      "2821               34                1  2116.16       1     2005    S72_3212   \n",
      "2822               47                9  3079.44       2     2005    S72_3212   \n",
      "\n",
      "     DEALSIZE  CustomerSegment  \n",
      "0       Small                1  \n",
      "1       Small                1  \n",
      "2      Medium                2  \n",
      "3      Medium                2  \n",
      "4      Medium                2  \n",
      "...       ...              ...  \n",
      "2818    Small                1  \n",
      "2819   Medium                0  \n",
      "2820   Medium                0  \n",
      "2821    Small                0  \n",
      "2822   Medium                0  \n",
      "\n",
      "[2823 rows x 8 columns]\n"
     ]
    }
   ],
   "source": [
    "# Customer Segmentation with K-Means Clustering\n",
    "\n",
    "\n",
    "import pandas as pd\n",
    "from sklearn.cluster import KMeans\n",
    "from sklearn.preprocessing import StandardScaler, OneHotEncoder\n",
    "from sklearn.compose import ColumnTransformer\n",
    "from sklearn.pipeline import Pipeline\n",
    "\n",
    "# Load data from Excel file\n",
    "excel_file_path = r'C:\\Users\\minnu\\OneDrive\\Documents\\jupyternotebookfolder\\sales_data_sample.xlsx'\n",
    "df = pd.read_excel(excel_file_path)\n",
    "\n",
    "# Select relevant columns for segmentation\n",
    "selected_columns = ['QUANTITYORDERED', 'ORDERLINENUMBER', 'SALES', 'QTR_ID', 'YEAR_ID', 'PRODUCTCODE', 'DEALSIZE']\n",
    "df_selected = df[selected_columns]\n",
    "\n",
    "# Separate numeric and categorical columns\n",
    "numeric_columns = df_selected.select_dtypes(include=['number']).columns\n",
    "categorical_columns = df_selected.select_dtypes(include=['object']).columns\n",
    "\n",
    "# Create transformers for preprocessing numeric and categorical columns\n",
    "numeric_transformer = StandardScaler()\n",
    "categorical_transformer = OneHotEncoder(drop='first')  # drop='first' to avoid multicollinearity\n",
    "\n",
    "# Create a column transformer to apply different preprocessing to numeric and categorical columns\n",
    "preprocessor = ColumnTransformer(\n",
    "    transformers=[\n",
    "        ('num', numeric_transformer, numeric_columns),\n",
    "        ('cat', categorical_transformer, categorical_columns)\n",
    "    ])\n",
    "\n",
    "# Choose the number of clusters (k)\n",
    "k = 3  # Adjust based on analysis\n",
    "\n",
    "# Create a pipeline with preprocessing and k-means clustering\n",
    "pipeline = Pipeline(steps=[('preprocessor', preprocessor),\n",
    "                             ('kmeans', KMeans(n_clusters=k, random_state=42))])\n",
    "\n",
    "# Fit and predict with the pipeline\n",
    "df['CustomerSegment'] = pipeline.fit_predict(df_selected)\n",
    "\n",
    "# Display the resulting DataFrame\n",
    "print(df)\n"
   ]
  },
  {
   "cell_type": "code",
   "execution_count": 21,
   "id": "2e1ef169-6982-4bed-9b65-fa81829d6b5c",
   "metadata": {},
   "outputs": [
    {
     "name": "stdout",
     "output_type": "stream",
     "text": [
      "                 QUANTITYORDERED  ORDERLINENUMBER        SALES    QTR_ID  \\\n",
      "CustomerSegment                                                            \n",
      "0                      34.208333         6.081944  3162.009444  1.308333   \n",
      "1                      29.309261         6.846219  2403.935242  3.320306   \n",
      "2                      43.131749         6.281857  5320.248672  3.047516   \n",
      "\n",
      "                     YEAR_ID  \n",
      "CustomerSegment               \n",
      "0                2004.583333  \n",
      "1                2003.506372  \n",
      "2                2003.610151  \n"
     ]
    },
    {
     "name": "stderr",
     "output_type": "stream",
     "text": [
      "C:\\Users\\minnu\\AppData\\Local\\Temp\\ipykernel_20660\\4110438399.py:4: FutureWarning: The default value of numeric_only in DataFrameGroupBy.mean is deprecated. In a future version, numeric_only will default to False. Either specify numeric_only or select only columns which should be valid for the function.\n",
      "  customer_profiles = df.groupby('CustomerSegment').mean()\n"
     ]
    }
   ],
   "source": [
    "#Profile Each Customer Segment\n",
    "\n",
    "# Calculate mean values for each feature in each cluster\n",
    "customer_profiles = df.groupby('CustomerSegment').mean()\n",
    "\n",
    "\n",
    "# Display customer profiles\n",
    "print(customer_profiles)\n"
   ]
  },
  {
   "cell_type": "code",
   "execution_count": null,
   "id": "103b3965-e373-4810-803e-842a3d03add4",
   "metadata": {},
   "outputs": [],
   "source": [
    "\n"
   ]
  },
  {
   "cell_type": "code",
   "execution_count": 16,
   "id": "f336d22b-e95d-4d9c-a862-91a60297cc98",
   "metadata": {},
   "outputs": [],
   "source": [
    "#Predictive Modeling (Order Value Prediction)"
   ]
  },
  {
   "cell_type": "code",
   "execution_count": 14,
   "id": "76ca0617-449e-46d6-ade9-0494f924bb42",
   "metadata": {},
   "outputs": [
    {
     "name": "stdout",
     "output_type": "stream",
     "text": [
      "Mean Squared Error: 687207.1443975717\n"
     ]
    }
   ],
   "source": [
    "import pandas as pd\n",
    "from sklearn.model_selection import train_test_split\n",
    "from sklearn.linear_model import LinearRegression\n",
    "from sklearn.metrics import mean_squared_error\n",
    "from sklearn.preprocessing import OneHotEncoder\n",
    "\n",
    "# Load data from Excel file\n",
    "excel_file_path = r'C:\\Users\\minnu\\OneDrive\\Documents\\jupyternotebookfolder\\sales_data_sample.xlsx'\n",
    "df = pd.read_excel(excel_file_path)\n",
    "\n",
    "# Select relevant columns for regression\n",
    "selected_columns = ['QUANTITYORDERED', 'ORDERLINENUMBER', 'QTR_ID', 'YEAR_ID', 'PRODUCTCODE', 'DEALSIZE', 'SALES']\n",
    "df_selected = df[selected_columns]\n",
    "\n",
    "# One-hot encode categorical columns\n",
    "df_encoded = pd.get_dummies(df_selected, columns=['PRODUCTCODE', 'DEALSIZE'], drop_first=True)\n",
    "\n",
    "# Define features and target variable\n",
    "X = df_encoded.drop('SALES', axis=1)\n",
    "y = df_encoded['SALES']\n",
    "\n",
    "# Split the data into training and testing sets\n",
    "X_train, X_test, y_train, y_test = train_test_split(X, y, test_size=0.2, random_state=42)\n",
    "\n",
    "# Initialize and train a linear regression model\n",
    "model = LinearRegression()\n",
    "model.fit(X_train, y_train)\n",
    "\n",
    "# Make predictions on the test set\n",
    "y_pred = model.predict(X_test)\n",
    "\n",
    "# Evaluate the model\n",
    "mse = mean_squared_error(y_test, y_pred)\n",
    "print(f'Mean Squared Error: {mse}')\n"
   ]
  },
  {
   "cell_type": "code",
   "execution_count": null,
   "id": "e5336bd7-433b-4919-b9c7-08753ff7edc6",
   "metadata": {},
   "outputs": [],
   "source": []
  }
 ],
 "metadata": {
  "kernelspec": {
   "display_name": "Python 3 (ipykernel)",
   "language": "python",
   "name": "python3"
  },
  "language_info": {
   "codemirror_mode": {
    "name": "ipython",
    "version": 3
   },
   "file_extension": ".py",
   "mimetype": "text/x-python",
   "name": "python",
   "nbconvert_exporter": "python",
   "pygments_lexer": "ipython3",
   "version": "3.11.1"
  }
 },
 "nbformat": 4,
 "nbformat_minor": 5
}
